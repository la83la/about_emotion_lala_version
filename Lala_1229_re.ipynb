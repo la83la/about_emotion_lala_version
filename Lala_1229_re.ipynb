{
 "cells": [
  {
   "cell_type": "code",
   "execution_count": 1,
   "id": "1aeb3049",
   "metadata": {},
   "outputs": [],
   "source": [
    "import os\n",
    "import pickle \n",
    "import pandas as pd\n",
    "import re\n",
    "import matplotlib.pyplot as plt \n",
    "from datetime import datetime\n",
    "from sklearn.preprocessing import MinMaxScaler\n",
    "\n",
    "import warnings\n",
    "warnings.filterwarnings(\"ignore\")"
   ]
  },
  {
   "cell_type": "markdown",
   "id": "055e21a7",
   "metadata": {},
   "source": [
    "# NTUSD\n",
    "\n",
    "為金融社交媒體數據應用的市場情緒詞典，構建的詞典 NTUSD-Fin 中有 8,331 個單詞 + 115 個表情符號。\n",
    "\n",
    "- token：單詞、標籤或表情符號\n",
    "- bull_freq：看漲集中的頻率\n",
    "- bear_freq：看跌集合中的頻率 \n",
    "- bull_cfidf：看漲集合中的收集頻率\n",
    "- bear_cfidf：看跌集合中的收集頻率\n",
    "- chi_squared：token的卡方檢驗結果\n",
    "- market_sentiment：由看漲 PMI 減去看跌 PMI 計算得出\n",
    "- word_vec：300維詞向量"
   ]
  },
  {
   "cell_type": "code",
   "execution_count": 3,
   "id": "0661e563",
   "metadata": {},
   "outputs": [
    {
     "data": {
      "text/html": [
       "<div>\n",
       "<style scoped>\n",
       "    .dataframe tbody tr th:only-of-type {\n",
       "        vertical-align: middle;\n",
       "    }\n",
       "\n",
       "    .dataframe tbody tr th {\n",
       "        vertical-align: top;\n",
       "    }\n",
       "\n",
       "    .dataframe thead th {\n",
       "        text-align: right;\n",
       "    }\n",
       "</style>\n",
       "<table border=\"1\" class=\"dataframe\">\n",
       "  <thead>\n",
       "    <tr style=\"text-align: right;\">\n",
       "      <th></th>\n",
       "      <th>token</th>\n",
       "      <th>market_sentiment</th>\n",
       "    </tr>\n",
       "  </thead>\n",
       "  <tbody>\n",
       "    <tr>\n",
       "      <th>0</th>\n",
       "      <td>筆記</td>\n",
       "      <td>1.081211</td>\n",
       "    </tr>\n",
       "    <tr>\n",
       "      <th>1</th>\n",
       "      <td>機械手</td>\n",
       "      <td>1.221692</td>\n",
       "    </tr>\n",
       "    <tr>\n",
       "      <th>2</th>\n",
       "      <td>吸</td>\n",
       "      <td>-1.507409</td>\n",
       "    </tr>\n",
       "    <tr>\n",
       "      <th>3</th>\n",
       "      <td>車庫</td>\n",
       "      <td>1.069689</td>\n",
       "    </tr>\n",
       "    <tr>\n",
       "      <th>4</th>\n",
       "      <td>艾滋病</td>\n",
       "      <td>0.922132</td>\n",
       "    </tr>\n",
       "    <tr>\n",
       "      <th>...</th>\n",
       "      <td>...</td>\n",
       "      <td>...</td>\n",
       "    </tr>\n",
       "    <tr>\n",
       "      <th>8441</th>\n",
       "      <td>☕</td>\n",
       "      <td>1.141662</td>\n",
       "    </tr>\n",
       "    <tr>\n",
       "      <th>8442</th>\n",
       "      <td>😀</td>\n",
       "      <td>-0.644559</td>\n",
       "    </tr>\n",
       "    <tr>\n",
       "      <th>8443</th>\n",
       "      <td>👍</td>\n",
       "      <td>1.100400</td>\n",
       "    </tr>\n",
       "    <tr>\n",
       "      <th>8444</th>\n",
       "      <td>👆</td>\n",
       "      <td>1.059200</td>\n",
       "    </tr>\n",
       "    <tr>\n",
       "      <th>8445</th>\n",
       "      <td>😱</td>\n",
       "      <td>0.726625</td>\n",
       "    </tr>\n",
       "  </tbody>\n",
       "</table>\n",
       "<p>8446 rows × 2 columns</p>\n",
       "</div>"
      ],
      "text/plain": [
       "     token  market_sentiment\n",
       "0       筆記          1.081211\n",
       "1      機械手          1.221692\n",
       "2        吸         -1.507409\n",
       "3       車庫          1.069689\n",
       "4      艾滋病          0.922132\n",
       "...    ...               ...\n",
       "8441     ☕          1.141662\n",
       "8442     😀         -0.644559\n",
       "8443     👍          1.100400\n",
       "8444     👆          1.059200\n",
       "8445     😱          0.726625\n",
       "\n",
       "[8446 rows x 2 columns]"
      ]
     },
     "execution_count": 3,
     "metadata": {},
     "output_type": "execute_result"
    }
   ],
   "source": [
    "name = \"C:/Users/user/Desktop/Chinese_derivative_1229/NTUSD_Fin_sentiment.json\"\n",
    "df_score = pd.read_json(name, encoding=\"utf-8\")\n",
    "# df_score = df[['token', 'market_sentiment']]\n",
    "df_score"
   ]
  },
  {
   "cell_type": "code",
   "execution_count": 4,
   "id": "9027ecea",
   "metadata": {},
   "outputs": [
    {
     "data": {
      "text/plain": [
       "count    8446.000000\n",
       "mean        0.570526\n",
       "std         0.950257\n",
       "min        -4.418490\n",
       "25%         0.325545\n",
       "50%         1.010188\n",
       "75%         1.128583\n",
       "max         1.221692\n",
       "Name: market_sentiment, dtype: float64"
      ]
     },
     "execution_count": 4,
     "metadata": {},
     "output_type": "execute_result"
    }
   ],
   "source": [
    "df_score['market_sentiment'].describe()"
   ]
  },
  {
   "cell_type": "markdown",
   "id": "240a9dac",
   "metadata": {},
   "source": [
    "# MinMaxScaler"
   ]
  },
  {
   "cell_type": "code",
   "execution_count": 14,
   "id": "d0635938",
   "metadata": {},
   "outputs": [],
   "source": [
    "# Step2: minMax scale\n",
    "scaler = MinMaxScaler()\n",
    "cols_to_norm = ['market_sentiment']\n",
    "df_score[cols_to_norm] = scaler.fit_transform(df_score[cols_to_norm].values.reshape(-1,1))\n",
    "\n",
    "# Step3: Linear transform\n",
    "df_score[cols_to_norm] = df_score[cols_to_norm].apply(lambda x: x*2-1)"
   ]
  },
  {
   "cell_type": "code",
   "execution_count": 15,
   "id": "f66b989f",
   "metadata": {
    "scrolled": true
   },
   "outputs": [
    {
     "data": {
      "text/html": [
       "<div>\n",
       "<style scoped>\n",
       "    .dataframe tbody tr th:only-of-type {\n",
       "        vertical-align: middle;\n",
       "    }\n",
       "\n",
       "    .dataframe tbody tr th {\n",
       "        vertical-align: top;\n",
       "    }\n",
       "\n",
       "    .dataframe thead th {\n",
       "        text-align: right;\n",
       "    }\n",
       "</style>\n",
       "<table border=\"1\" class=\"dataframe\">\n",
       "  <thead>\n",
       "    <tr style=\"text-align: right;\">\n",
       "      <th></th>\n",
       "      <th>market_sentiment</th>\n",
       "    </tr>\n",
       "  </thead>\n",
       "  <tbody>\n",
       "    <tr>\n",
       "      <th>count</th>\n",
       "      <td>8446.000000</td>\n",
       "    </tr>\n",
       "    <tr>\n",
       "      <th>mean</th>\n",
       "      <td>0.769097</td>\n",
       "    </tr>\n",
       "    <tr>\n",
       "      <th>std</th>\n",
       "      <td>0.336960</td>\n",
       "    </tr>\n",
       "    <tr>\n",
       "      <th>min</th>\n",
       "      <td>-1.000000</td>\n",
       "    </tr>\n",
       "    <tr>\n",
       "      <th>25%</th>\n",
       "      <td>0.682227</td>\n",
       "    </tr>\n",
       "    <tr>\n",
       "      <th>50%</th>\n",
       "      <td>0.925001</td>\n",
       "    </tr>\n",
       "    <tr>\n",
       "      <th>75%</th>\n",
       "      <td>0.966984</td>\n",
       "    </tr>\n",
       "    <tr>\n",
       "      <th>max</th>\n",
       "      <td>1.000000</td>\n",
       "    </tr>\n",
       "  </tbody>\n",
       "</table>\n",
       "</div>"
      ],
      "text/plain": [
       "       market_sentiment\n",
       "count       8446.000000\n",
       "mean           0.769097\n",
       "std            0.336960\n",
       "min           -1.000000\n",
       "25%            0.682227\n",
       "50%            0.925001\n",
       "75%            0.966984\n",
       "max            1.000000"
      ]
     },
     "execution_count": 15,
     "metadata": {},
     "output_type": "execute_result"
    }
   ],
   "source": [
    "df_score.describe()"
   ]
  },
  {
   "cell_type": "code",
   "execution_count": 16,
   "id": "77e650b7",
   "metadata": {},
   "outputs": [
    {
     "name": "stdout",
     "output_type": "stream",
     "text": [
      "-1~0: 404/8446\n",
      "0~1: 8042/8446\n"
     ]
    }
   ],
   "source": [
    "# 檢查有多少自在+-2個標準差內\n",
    "mean = df_score['market_sentiment'].mean()\n",
    "std = df_score['market_sentiment'].std()\n",
    "count = 0\n",
    "sz = len(df_score['market_sentiment'])\n",
    "for i in range(sz):\n",
    "    if -1 <= df_score['market_sentiment'][i] <= 0:\n",
    "        count +=1\n",
    "print(f\"-1~0: {count}/{sz}\")\n",
    "\n",
    "count = 0\n",
    "sz = len(df_score['market_sentiment'])\n",
    "for i in range(sz):\n",
    "    if 0 <= df_score['market_sentiment'][i] <= 1:\n",
    "        count +=1\n",
    "print(f\"0~1: {count}/{sz}\")"
   ]
  },
  {
   "cell_type": "markdown",
   "id": "9dab6349",
   "metadata": {},
   "source": [
    "# Normalization"
   ]
  },
  {
   "cell_type": "code",
   "execution_count": 4,
   "id": "acdefa80",
   "metadata": {},
   "outputs": [
    {
     "data": {
      "text/html": [
       "<div>\n",
       "<style scoped>\n",
       "    .dataframe tbody tr th:only-of-type {\n",
       "        vertical-align: middle;\n",
       "    }\n",
       "\n",
       "    .dataframe tbody tr th {\n",
       "        vertical-align: top;\n",
       "    }\n",
       "\n",
       "    .dataframe thead th {\n",
       "        text-align: right;\n",
       "    }\n",
       "</style>\n",
       "<table border=\"1\" class=\"dataframe\">\n",
       "  <thead>\n",
       "    <tr style=\"text-align: right;\">\n",
       "      <th></th>\n",
       "      <th>token</th>\n",
       "      <th>market_sentiment</th>\n",
       "      <th>Normalized_Sentiment_Score</th>\n",
       "    </tr>\n",
       "  </thead>\n",
       "  <tbody>\n",
       "    <tr>\n",
       "      <th>0</th>\n",
       "      <td>筆記</td>\n",
       "      <td>1.081211</td>\n",
       "      <td>0.537418</td>\n",
       "    </tr>\n",
       "    <tr>\n",
       "      <th>1</th>\n",
       "      <td>機械手</td>\n",
       "      <td>1.221692</td>\n",
       "      <td>0.685253</td>\n",
       "    </tr>\n",
       "    <tr>\n",
       "      <th>2</th>\n",
       "      <td>吸</td>\n",
       "      <td>-1.507409</td>\n",
       "      <td>-2.186708</td>\n",
       "    </tr>\n",
       "    <tr>\n",
       "      <th>3</th>\n",
       "      <td>車庫</td>\n",
       "      <td>1.069689</td>\n",
       "      <td>0.525293</td>\n",
       "    </tr>\n",
       "    <tr>\n",
       "      <th>4</th>\n",
       "      <td>艾滋病</td>\n",
       "      <td>0.922132</td>\n",
       "      <td>0.370012</td>\n",
       "    </tr>\n",
       "    <tr>\n",
       "      <th>...</th>\n",
       "      <td>...</td>\n",
       "      <td>...</td>\n",
       "      <td>...</td>\n",
       "    </tr>\n",
       "    <tr>\n",
       "      <th>8441</th>\n",
       "      <td>☕</td>\n",
       "      <td>1.141662</td>\n",
       "      <td>0.601034</td>\n",
       "    </tr>\n",
       "    <tr>\n",
       "      <th>8442</th>\n",
       "      <td>😀</td>\n",
       "      <td>-0.644559</td>\n",
       "      <td>-1.278691</td>\n",
       "    </tr>\n",
       "    <tr>\n",
       "      <th>8443</th>\n",
       "      <td>👍</td>\n",
       "      <td>1.100400</td>\n",
       "      <td>0.557612</td>\n",
       "    </tr>\n",
       "    <tr>\n",
       "      <th>8444</th>\n",
       "      <td>👆</td>\n",
       "      <td>1.059200</td>\n",
       "      <td>0.514255</td>\n",
       "    </tr>\n",
       "    <tr>\n",
       "      <th>8445</th>\n",
       "      <td>😱</td>\n",
       "      <td>0.726625</td>\n",
       "      <td>0.164270</td>\n",
       "    </tr>\n",
       "  </tbody>\n",
       "</table>\n",
       "<p>8446 rows × 3 columns</p>\n",
       "</div>"
      ],
      "text/plain": [
       "     token  market_sentiment  Normalized_Sentiment_Score\n",
       "0       筆記          1.081211                    0.537418\n",
       "1      機械手          1.221692                    0.685253\n",
       "2        吸         -1.507409                   -2.186708\n",
       "3       車庫          1.069689                    0.525293\n",
       "4      艾滋病          0.922132                    0.370012\n",
       "...    ...               ...                         ...\n",
       "8441     ☕          1.141662                    0.601034\n",
       "8442     😀         -0.644559                   -1.278691\n",
       "8443     👍          1.100400                    0.557612\n",
       "8444     👆          1.059200                    0.514255\n",
       "8445     😱          0.726625                    0.164270\n",
       "\n",
       "[8446 rows x 3 columns]"
      ]
     },
     "execution_count": 4,
     "metadata": {},
     "output_type": "execute_result"
    }
   ],
   "source": [
    "# # Scaled\n",
    "# df_score['Normalized_Sentiment_Score'] = (df_score['market_sentiment'] - df_score['market_sentiment'].mean())/df_score['market_sentiment'].std()\n",
    "# df_score"
   ]
  },
  {
   "cell_type": "code",
   "execution_count": 5,
   "id": "35285e5a",
   "metadata": {},
   "outputs": [
    {
     "data": {
      "text/html": [
       "<div>\n",
       "<style scoped>\n",
       "    .dataframe tbody tr th:only-of-type {\n",
       "        vertical-align: middle;\n",
       "    }\n",
       "\n",
       "    .dataframe tbody tr th {\n",
       "        vertical-align: top;\n",
       "    }\n",
       "\n",
       "    .dataframe thead th {\n",
       "        text-align: right;\n",
       "    }\n",
       "</style>\n",
       "<table border=\"1\" class=\"dataframe\">\n",
       "  <thead>\n",
       "    <tr style=\"text-align: right;\">\n",
       "      <th></th>\n",
       "      <th>market_sentiment</th>\n",
       "      <th>Normalized_Sentiment_Score</th>\n",
       "    </tr>\n",
       "  </thead>\n",
       "  <tbody>\n",
       "    <tr>\n",
       "      <th>count</th>\n",
       "      <td>8446.000000</td>\n",
       "      <td>8.446000e+03</td>\n",
       "    </tr>\n",
       "    <tr>\n",
       "      <th>mean</th>\n",
       "      <td>0.570526</td>\n",
       "      <td>-3.372838e-15</td>\n",
       "    </tr>\n",
       "    <tr>\n",
       "      <th>std</th>\n",
       "      <td>0.950257</td>\n",
       "      <td>1.000000e+00</td>\n",
       "    </tr>\n",
       "    <tr>\n",
       "      <th>min</th>\n",
       "      <td>-4.418490</td>\n",
       "      <td>-5.250174e+00</td>\n",
       "    </tr>\n",
       "    <tr>\n",
       "      <th>25%</th>\n",
       "      <td>0.325545</td>\n",
       "      <td>-2.578051e-01</td>\n",
       "    </tr>\n",
       "    <tr>\n",
       "      <th>50%</th>\n",
       "      <td>1.010188</td>\n",
       "      <td>4.626771e-01</td>\n",
       "    </tr>\n",
       "    <tr>\n",
       "      <th>75%</th>\n",
       "      <td>1.128583</td>\n",
       "      <td>5.872694e-01</td>\n",
       "    </tr>\n",
       "    <tr>\n",
       "      <th>max</th>\n",
       "      <td>1.221692</td>\n",
       "      <td>6.852528e-01</td>\n",
       "    </tr>\n",
       "  </tbody>\n",
       "</table>\n",
       "</div>"
      ],
      "text/plain": [
       "       market_sentiment  Normalized_Sentiment_Score\n",
       "count       8446.000000                8.446000e+03\n",
       "mean           0.570526               -3.372838e-15\n",
       "std            0.950257                1.000000e+00\n",
       "min           -4.418490               -5.250174e+00\n",
       "25%            0.325545               -2.578051e-01\n",
       "50%            1.010188                4.626771e-01\n",
       "75%            1.128583                5.872694e-01\n",
       "max            1.221692                6.852528e-01"
      ]
     },
     "execution_count": 5,
     "metadata": {},
     "output_type": "execute_result"
    }
   ],
   "source": [
    "# df_score.describe()"
   ]
  },
  {
   "cell_type": "code",
   "execution_count": 6,
   "id": "b481fb47",
   "metadata": {},
   "outputs": [
    {
     "data": {
      "text/plain": [
       "0.6852527853275587"
      ]
     },
     "execution_count": 6,
     "metadata": {},
     "output_type": "execute_result"
    }
   ],
   "source": [
    "# df_score['Normalized_Sentiment_Score'].quantile(0.99)"
   ]
  },
  {
   "cell_type": "code",
   "execution_count": 7,
   "id": "8862984c",
   "metadata": {},
   "outputs": [
    {
     "name": "stdout",
     "output_type": "stream",
     "text": [
      "-2~0: 1862/8446\n",
      "0~2: 6079/8446\n"
     ]
    }
   ],
   "source": [
    "# # 檢查有多少自在+-2個標準差內\n",
    "# mean = df_score['Normalized_Sentiment_Score'].mean()\n",
    "# std = df_score['Normalized_Sentiment_Score'].std()\n",
    "# count = 0\n",
    "# sz = len(df_score['Normalized_Sentiment_Score'])\n",
    "# for i in range(sz):\n",
    "#     if mean - std *2 <= df_score['Normalized_Sentiment_Score'][i] <= mean:\n",
    "#         count +=1\n",
    "# print(f\"-2~0: {count}/{sz}\")\n",
    "\n",
    "# count = 0\n",
    "# sz = len(df_score['Normalized_Sentiment_Score'])\n",
    "# for i in range(sz):\n",
    "#     if mean <= df_score['Normalized_Sentiment_Score'][i] <= mean + std*2:\n",
    "#         count +=1\n",
    "# print(f\"0~2: {count}/{sz}\")"
   ]
  },
  {
   "cell_type": "markdown",
   "id": "772f80a7",
   "metadata": {},
   "source": [
    "還是biased"
   ]
  },
  {
   "cell_type": "code",
   "execution_count": 8,
   "id": "19782129",
   "metadata": {},
   "outputs": [],
   "source": [
    "# df_score = df_score.drop(columns=['market_sentiment'])"
   ]
  },
  {
   "cell_type": "markdown",
   "id": "e1be6881",
   "metadata": {},
   "source": [
    "# Add the Opinion Finder words"
   ]
  },
  {
   "cell_type": "code",
   "execution_count": 9,
   "id": "0b4e10a8",
   "metadata": {},
   "outputs": [],
   "source": [
    "str_pos_point = df_score['Normalized_Sentiment_Score'].quantile(0.78, interpolation=\"nearest\")\n",
    "weak_pos_point = df_score['Normalized_Sentiment_Score'].quantile(0.52, interpolation=\"nearest\")\n",
    "str_neg_point = df_score['Normalized_Sentiment_Score'].quantile(0.2, interpolation=\"nearest\")\n",
    "weak_neg_point = df_score['Normalized_Sentiment_Score'].quantile(0.25, interpolation=\"nearest\")"
   ]
  },
  {
   "cell_type": "code",
   "execution_count": 17,
   "id": "7dc2c0a8",
   "metadata": {},
   "outputs": [
    {
     "ename": "FileNotFoundError",
     "evalue": "[Errno 2] No such file or directory: 'C:/Users/user/Desktop/Chinese_derivative_1229/strong_positive.txt'",
     "output_type": "error",
     "traceback": [
      "\u001b[1;31m---------------------------------------------------------------------------\u001b[0m",
      "\u001b[1;31mFileNotFoundError\u001b[0m                         Traceback (most recent call last)",
      "Input \u001b[1;32mIn [17]\u001b[0m, in \u001b[0;36m<cell line: 2>\u001b[1;34m()\u001b[0m\n\u001b[0;32m      1\u001b[0m \u001b[38;5;66;03m# Read translated words\u001b[39;00m\n\u001b[1;32m----> 2\u001b[0m \u001b[38;5;28;01mwith\u001b[39;00m \u001b[38;5;28;43mopen\u001b[39;49m\u001b[43m(\u001b[49m\u001b[38;5;124;43m'\u001b[39;49m\u001b[38;5;124;43mC:/Users/user/Desktop/Chinese_derivative_1229/strong_positive.txt\u001b[39;49m\u001b[38;5;124;43m'\u001b[39;49m\u001b[43m)\u001b[49m \u001b[38;5;28;01mas\u001b[39;00m f:\n\u001b[0;32m      3\u001b[0m     strong_positive_trans \u001b[38;5;241m=\u001b[39m f\u001b[38;5;241m.\u001b[39mreadlines()\n\u001b[0;32m      4\u001b[0m \u001b[38;5;28;01mwith\u001b[39;00m \u001b[38;5;28mopen\u001b[39m(\u001b[38;5;124m'\u001b[39m\u001b[38;5;124mC:/Users/user/Desktop/Chinese_derivative_1229/strong_negative.txt\u001b[39m\u001b[38;5;124m'\u001b[39m) \u001b[38;5;28;01mas\u001b[39;00m f:\n",
      "\u001b[1;31mFileNotFoundError\u001b[0m: [Errno 2] No such file or directory: 'C:/Users/user/Desktop/Chinese_derivative_1229/strong_positive.txt'"
     ]
    }
   ],
   "source": [
    "# Read translated words\n",
    "with open('C:/Users/user/Desktop/Chinese_derivative_1229/strong_positive.txt') as f:\n",
    "    strong_positive_trans = f.readlines()\n",
    "with open('C:/Users/user/Desktop/Chinese_derivative_1229/strong_negative.txt') as f:\n",
    "    strong_negative_trans = f.readlines()\n",
    "with open('C:/Users/user/Desktop/Chinese_derivative_1229/words_and_labels/weak_positive.txt') as f:\n",
    "    weak_positive_trans = f.readlines()\n",
    "with open('C:/Users/user/Desktop/Chinese_derivative_1229/words_and_labels/weak_negative.txt') as f:\n",
    "    weak_negative_trans = f.readlines()"
   ]
  },
  {
   "cell_type": "code",
   "execution_count": 12,
   "id": "5df6a907",
   "metadata": {},
   "outputs": [],
   "source": [
    "def preprocess(text):\n",
    "    \"\"\"\n",
    "    remove numbers, english letters, line break and blank.\n",
    "    \"\"\"\n",
    "    text = re.sub('[\\d]','',text) # [0-9]\n",
    "    text = text.replace(\"'\", '')\n",
    "    text = text.replace(\"[\", '')\n",
    "    text = text.replace(\"]\", '')\n",
    "    text = re.sub('[a-zA-Z]','', text)\n",
    "    text = text.replace(\"\\n\", \"\")\n",
    "    text = text.replace(\" \", \"\")\n",
    "    return text"
   ]
  },
  {
   "cell_type": "code",
   "execution_count": 13,
   "id": "426a700d",
   "metadata": {
    "scrolled": true
   },
   "outputs": [],
   "source": [
    "strong_positive = preprocess(strong_positive_trans[0])\n",
    "strong_positive = strong_positive.split(',')\n",
    "strong_positive = list(filter(None, strong_positive))\n",
    "\n",
    "strong_negative = preprocess(strong_negative_trans[0])\n",
    "strong_negative = strong_negative.split(',')\n",
    "strong_negative = list(filter(None, strong_negative))\n",
    "\n",
    "weak_positive = preprocess(weak_positive_trans[0])\n",
    "weak_positive = weak_positive.split(',')\n",
    "weak_positive = list(filter(None, weak_positive))\n",
    "\n",
    "weak_negative = preprocess(weak_negative_trans[0])\n",
    "weak_negative = weak_negative.split(',')\n",
    "weak_negative = list(filter(None, weak_negative))"
   ]
  },
  {
   "cell_type": "code",
   "execution_count": 14,
   "id": "d0b16dbf",
   "metadata": {},
   "outputs": [],
   "source": [
    "# Create dataframe\n",
    "strong_positive_df = pd.DataFrame()\n",
    "strong_positive_df['token'] = strong_positive\n",
    "strong_positive_df['Normalized_Sentiment_Score'] = str_pos_point\n",
    "\n",
    "strong_negative_df = pd.DataFrame()\n",
    "strong_negative_df['token'] = strong_negative\n",
    "strong_negative_df['Normalized_Sentiment_Score'] = str_neg_point\n",
    "\n",
    "weak_positive_df = pd.DataFrame()\n",
    "weak_positive_df['token'] = weak_positive\n",
    "weak_positive_df['Normalized_Sentiment_Score'] = weak_pos_point\n",
    "\n",
    "weak_negative_df = pd.DataFrame()\n",
    "weak_negative_df['token'] = weak_negative\n",
    "weak_negative_df['Normalized_Sentiment_Score'] = weak_neg_point"
   ]
  },
  {
   "cell_type": "markdown",
   "id": "e2d63af5",
   "metadata": {},
   "source": [
    "# Concat together"
   ]
  },
  {
   "cell_type": "code",
   "execution_count": 15,
   "id": "8ae04a41",
   "metadata": {},
   "outputs": [],
   "source": [
    "new_df_score = pd.DataFrame()\n",
    "pdList = [df_score, strong_positive_df, strong_negative_df, weak_positive_df, weak_negative_df] \n",
    "new_df_score = pd.concat(pdList)"
   ]
  },
  {
   "cell_type": "code",
   "execution_count": 16,
   "id": "7f33bd4c",
   "metadata": {},
   "outputs": [
    {
     "data": {
      "text/html": [
       "<div>\n",
       "<style scoped>\n",
       "    .dataframe tbody tr th:only-of-type {\n",
       "        vertical-align: middle;\n",
       "    }\n",
       "\n",
       "    .dataframe tbody tr th {\n",
       "        vertical-align: top;\n",
       "    }\n",
       "\n",
       "    .dataframe thead th {\n",
       "        text-align: right;\n",
       "    }\n",
       "</style>\n",
       "<table border=\"1\" class=\"dataframe\">\n",
       "  <thead>\n",
       "    <tr style=\"text-align: right;\">\n",
       "      <th></th>\n",
       "      <th>token</th>\n",
       "      <th>Normalized_Sentiment_Score</th>\n",
       "    </tr>\n",
       "  </thead>\n",
       "  <tbody>\n",
       "    <tr>\n",
       "      <th>0</th>\n",
       "      <td>筆記</td>\n",
       "      <td>0.537418</td>\n",
       "    </tr>\n",
       "    <tr>\n",
       "      <th>1</th>\n",
       "      <td>機械手</td>\n",
       "      <td>0.685253</td>\n",
       "    </tr>\n",
       "    <tr>\n",
       "      <th>2</th>\n",
       "      <td>吸</td>\n",
       "      <td>-2.186708</td>\n",
       "    </tr>\n",
       "    <tr>\n",
       "      <th>3</th>\n",
       "      <td>車庫</td>\n",
       "      <td>0.525293</td>\n",
       "    </tr>\n",
       "    <tr>\n",
       "      <th>4</th>\n",
       "      <td>艾滋病</td>\n",
       "      <td>0.370012</td>\n",
       "    </tr>\n",
       "    <tr>\n",
       "      <th>...</th>\n",
       "      <td>...</td>\n",
       "      <td>...</td>\n",
       "    </tr>\n",
       "    <tr>\n",
       "      <th>15235</th>\n",
       "      <td>堅定</td>\n",
       "      <td>-0.257872</td>\n",
       "    </tr>\n",
       "    <tr>\n",
       "      <th>15236</th>\n",
       "      <td>飢餓的</td>\n",
       "      <td>-0.257872</td>\n",
       "    </tr>\n",
       "    <tr>\n",
       "      <th>15237</th>\n",
       "      <td>盛行</td>\n",
       "      <td>-0.257872</td>\n",
       "    </tr>\n",
       "    <tr>\n",
       "      <th>15238</th>\n",
       "      <td>進攻</td>\n",
       "      <td>-0.257872</td>\n",
       "    </tr>\n",
       "    <tr>\n",
       "      <th>15239</th>\n",
       "      <td>差異</td>\n",
       "      <td>-0.257872</td>\n",
       "    </tr>\n",
       "  </tbody>\n",
       "</table>\n",
       "<p>15240 rows × 2 columns</p>\n",
       "</div>"
      ],
      "text/plain": [
       "      token  Normalized_Sentiment_Score\n",
       "0        筆記                    0.537418\n",
       "1       機械手                    0.685253\n",
       "2         吸                   -2.186708\n",
       "3        車庫                    0.525293\n",
       "4       艾滋病                    0.370012\n",
       "...     ...                         ...\n",
       "15235    堅定                   -0.257872\n",
       "15236   飢餓的                   -0.257872\n",
       "15237    盛行                   -0.257872\n",
       "15238    進攻                   -0.257872\n",
       "15239    差異                   -0.257872\n",
       "\n",
       "[15240 rows x 2 columns]"
      ]
     },
     "execution_count": 16,
     "metadata": {},
     "output_type": "execute_result"
    }
   ],
   "source": [
    "new_df_score = new_df_score.reset_index(drop=True)\n",
    "new_df_score"
   ]
  },
  {
   "cell_type": "code",
   "execution_count": 17,
   "id": "98e1e312",
   "metadata": {},
   "outputs": [
    {
     "data": {
      "text/html": [
       "<div>\n",
       "<style scoped>\n",
       "    .dataframe tbody tr th:only-of-type {\n",
       "        vertical-align: middle;\n",
       "    }\n",
       "\n",
       "    .dataframe tbody tr th {\n",
       "        vertical-align: top;\n",
       "    }\n",
       "\n",
       "    .dataframe thead th {\n",
       "        text-align: right;\n",
       "    }\n",
       "</style>\n",
       "<table border=\"1\" class=\"dataframe\">\n",
       "  <thead>\n",
       "    <tr style=\"text-align: right;\">\n",
       "      <th></th>\n",
       "      <th>Normalized_Sentiment_Score</th>\n",
       "    </tr>\n",
       "  </thead>\n",
       "  <tbody>\n",
       "    <tr>\n",
       "      <th>count</th>\n",
       "      <td>15240.000000</td>\n",
       "    </tr>\n",
       "    <tr>\n",
       "      <th>mean</th>\n",
       "      <td>-0.035824</td>\n",
       "    </tr>\n",
       "    <tr>\n",
       "      <th>std</th>\n",
       "      <td>0.826814</td>\n",
       "    </tr>\n",
       "    <tr>\n",
       "      <th>min</th>\n",
       "      <td>-5.250174</td>\n",
       "    </tr>\n",
       "    <tr>\n",
       "      <th>25%</th>\n",
       "      <td>-0.585448</td>\n",
       "    </tr>\n",
       "    <tr>\n",
       "      <th>50%</th>\n",
       "      <td>0.397877</td>\n",
       "    </tr>\n",
       "    <tr>\n",
       "      <th>75%</th>\n",
       "      <td>0.593212</td>\n",
       "    </tr>\n",
       "    <tr>\n",
       "      <th>max</th>\n",
       "      <td>0.685253</td>\n",
       "    </tr>\n",
       "  </tbody>\n",
       "</table>\n",
       "</div>"
      ],
      "text/plain": [
       "       Normalized_Sentiment_Score\n",
       "count                15240.000000\n",
       "mean                    -0.035824\n",
       "std                      0.826814\n",
       "min                     -5.250174\n",
       "25%                     -0.585448\n",
       "50%                      0.397877\n",
       "75%                      0.593212\n",
       "max                      0.685253"
      ]
     },
     "execution_count": 17,
     "metadata": {},
     "output_type": "execute_result"
    }
   ],
   "source": [
    "new_df_score.describe()"
   ]
  },
  {
   "cell_type": "code",
   "execution_count": 18,
   "id": "b8ff7989",
   "metadata": {},
   "outputs": [],
   "source": [
    "path = 'C:/Users/USER/Desktop/Prof_Hsieh_Project/about_emotion/Chinese_derivative/words_and_labels'\n",
    "os.chdir(path)"
   ]
  },
  {
   "cell_type": "code",
   "execution_count": 19,
   "id": "1e742de7",
   "metadata": {},
   "outputs": [],
   "source": [
    "new_df_score.to_pickle('Sentiment_Score.pkl')"
   ]
  },
  {
   "cell_type": "code",
   "execution_count": null,
   "id": "da2632b5",
   "metadata": {},
   "outputs": [],
   "source": []
  },
  {
   "cell_type": "code",
   "execution_count": null,
   "id": "d8426c74",
   "metadata": {},
   "outputs": [],
   "source": []
  },
  {
   "cell_type": "code",
   "execution_count": null,
   "id": "3aa3be4c",
   "metadata": {},
   "outputs": [],
   "source": []
  },
  {
   "cell_type": "code",
   "execution_count": null,
   "id": "7ad3312d",
   "metadata": {},
   "outputs": [],
   "source": []
  },
  {
   "cell_type": "code",
   "execution_count": null,
   "id": "58d8f118",
   "metadata": {},
   "outputs": [],
   "source": []
  },
  {
   "cell_type": "code",
   "execution_count": null,
   "id": "886daa62",
   "metadata": {},
   "outputs": [],
   "source": []
  },
  {
   "cell_type": "code",
   "execution_count": null,
   "id": "8a954f3d",
   "metadata": {},
   "outputs": [],
   "source": []
  }
 ],
 "metadata": {
  "kernelspec": {
   "display_name": "Python 3 (ipykernel)",
   "language": "python",
   "name": "python3"
  },
  "language_info": {
   "codemirror_mode": {
    "name": "ipython",
    "version": 3
   },
   "file_extension": ".py",
   "mimetype": "text/x-python",
   "name": "python",
   "nbconvert_exporter": "python",
   "pygments_lexer": "ipython3",
   "version": "3.8.3"
  }
 },
 "nbformat": 4,
 "nbformat_minor": 5
}
