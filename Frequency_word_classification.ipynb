{
 "cells": [
  {
   "cell_type": "code",
   "execution_count": 1,
   "id": "1cd69bfe",
   "metadata": {},
   "outputs": [],
   "source": [
    "import pandas as pd\n",
    "import time\n",
    "import datetime\n",
    "from IPython.display import display, clear_output\n",
    "import warnings\n",
    "warnings.filterwarnings(\"ignore\")"
   ]
  },
  {
   "cell_type": "code",
   "execution_count": 2,
   "id": "02239cc2",
   "metadata": {},
   "outputs": [],
   "source": [
    "word_freq = open('Top1000FrequencyWords.txt', encoding=\"utf8\").readlines()\n",
    "word_list = word_freq[0].split(',')"
   ]
  },
  {
   "cell_type": "code",
   "execution_count": 3,
   "id": "215d6a88",
   "metadata": {},
   "outputs": [
    {
     "data": {
      "text/plain": [
       "['長', '預期', '跌', '新', '指數', '成長', '買', '需求', '漲', '升息']"
      ]
     },
     "execution_count": 3,
     "metadata": {},
     "output_type": "execute_result"
    }
   ],
   "source": [
    "word_list[:10]"
   ]
  },
  {
   "cell_type": "code",
   "execution_count": 4,
   "id": "5d528f0d",
   "metadata": {},
   "outputs": [],
   "source": [
    "positive_list = []\n",
    "negative_list = []\n",
    "neutral_list = []"
   ]
  },
  {
   "cell_type": "code",
   "execution_count": null,
   "id": "0be5abab",
   "metadata": {
    "scrolled": false
   },
   "outputs": [
    {
     "name": "stdout",
     "output_type": "stream",
     "text": [
      "Current Process: 3 / 1002\n",
      "Word: 跌\n"
     ]
    }
   ],
   "source": [
    "sz = len(word_list)\n",
    "\n",
    "i = 0\n",
    "while i < sz:\n",
    "    clear_output()\n",
    "    print(f\"Current Process: {i+1} / {sz+1}\")\n",
    "    word = word_list[i]\n",
    "    print(f\"Word: {word}\")\n",
    "    option = input('Positive: + ; Negative: - ; Neutral: 0')\n",
    "    if option == '+':\n",
    "        positive_list.append(word)\n",
    "        i+=1\n",
    "    if option == '-':\n",
    "        negative_list.append(word)\n",
    "        i+=1\n",
    "    if option == '0':\n",
    "        neutral_list.append(word)\n",
    "        i+=1\n",
    "    else:\n",
    "        print(\"invalid input\")"
   ]
  },
  {
   "cell_type": "code",
   "execution_count": 49,
   "id": "40ff0511",
   "metadata": {},
   "outputs": [
    {
     "name": "stdout",
     "output_type": "stream",
     "text": [
      "Done\n",
      "Done\n",
      "Done\n"
     ]
    }
   ],
   "source": [
    "with open(r'Positive_words.txt', 'w', encoding='utf-8') as fp:\n",
    "    for item in positive_list:\n",
    "        # write each item on a new line\n",
    "        fp.write(\"%s,\" % item)\n",
    "    print('Done')    \n",
    "    \n",
    "with open(r'Negative_words.txt', 'w', encoding='utf-8') as fp:\n",
    "    for item in negative_list:\n",
    "        # write each item on a new line\n",
    "        fp.write(\"%s,\" % item)\n",
    "    print('Done')    \n",
    "    \n",
    "with open(r'Neutral_words.txt', 'w', encoding='utf-8') as fp:\n",
    "    for item in neutral_list:\n",
    "        # write each item on a new line\n",
    "        fp.write(\"%s,\" % item)\n",
    "    print('Done')    "
   ]
  },
  {
   "cell_type": "code",
   "execution_count": 50,
   "id": "5aeb0cff",
   "metadata": {},
   "outputs": [
    {
     "name": "stdout",
     "output_type": "stream",
     "text": [
      "212\n",
      "83\n",
      "706\n"
     ]
    }
   ],
   "source": [
    "print(len(positive_list))\n",
    "print(len(negative_list))\n",
    "print(len(neutral_list))"
   ]
  },
  {
   "cell_type": "code",
   "execution_count": null,
   "id": "b3e23bee",
   "metadata": {},
   "outputs": [],
   "source": []
  },
  {
   "cell_type": "code",
   "execution_count": null,
   "id": "eba0762d",
   "metadata": {},
   "outputs": [],
   "source": []
  },
  {
   "cell_type": "code",
   "execution_count": null,
   "id": "5b45854d",
   "metadata": {},
   "outputs": [],
   "source": []
  },
  {
   "cell_type": "code",
   "execution_count": null,
   "id": "ac331b84",
   "metadata": {},
   "outputs": [],
   "source": []
  },
  {
   "cell_type": "code",
   "execution_count": null,
   "id": "9eba568e",
   "metadata": {},
   "outputs": [],
   "source": []
  },
  {
   "cell_type": "code",
   "execution_count": null,
   "id": "504505a5",
   "metadata": {},
   "outputs": [],
   "source": []
  },
  {
   "cell_type": "code",
   "execution_count": null,
   "id": "0f9ac05c",
   "metadata": {},
   "outputs": [],
   "source": []
  },
  {
   "cell_type": "code",
   "execution_count": null,
   "id": "a6010eaf",
   "metadata": {},
   "outputs": [],
   "source": []
  }
 ],
 "metadata": {
  "kernelspec": {
   "display_name": "Python 3 (ipykernel)",
   "language": "python",
   "name": "python3"
  },
  "language_info": {
   "codemirror_mode": {
    "name": "ipython",
    "version": 3
   },
   "file_extension": ".py",
   "mimetype": "text/x-python",
   "name": "python",
   "nbconvert_exporter": "python",
   "pygments_lexer": "ipython3",
   "version": "3.9.12"
  }
 },
 "nbformat": 4,
 "nbformat_minor": 5
}
