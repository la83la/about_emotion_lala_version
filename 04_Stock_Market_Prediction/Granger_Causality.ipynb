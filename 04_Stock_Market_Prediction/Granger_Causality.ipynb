{
 "cells": [
  {
   "cell_type": "code",
   "execution_count": 1,
   "id": "ab3dbbb1",
   "metadata": {},
   "outputs": [],
   "source": [
    "import pandas as pd \n",
    "import matplotlib.pyplot as plt\n",
    "import datetime\n",
    "import os"
   ]
  },
  {
   "cell_type": "code",
   "execution_count": 6,
   "id": "bc798be1",
   "metadata": {},
   "outputs": [],
   "source": [
    "# load data\n",
    "Sentiment_Result = pd.read_pickle(\"C:/Users/user/Desktop/Chinese_derivative_1229/09_words_and_labels/Sentiment_Analysis_Result_onlyOF.pkl\")\n",
    "Sentiment_Result = Sentiment_Result.rename(columns={'Publication_Date': 'Dates'})\n",
    "\n",
    "TW50 = pd.read_csv(\"C:/Users/user/Desktop/Chinese_derivative_1229/0050_TW.csv\")"
   ]
  },
  {
   "cell_type": "code",
   "execution_count": 7,
   "id": "78d15bf0",
   "metadata": {
    "scrolled": true
   },
   "outputs": [],
   "source": [
    "# 填補股價缺少資料\n",
    "TW50_prune = TW50.drop([\"High\", \"Low\", \"Open\", \"Volume\", 'Close'], axis=1)\n",
    "TW50_dict = {}\n",
    "\n",
    "for i, j in zip(TW50_prune['Date'], TW50_prune['Adj Close']): \n",
    "    date_obj = datetime.datetime.strptime(i, '%Y-%m-%d')\n",
    "    TW50_dict[date_obj] = j"
   ]
  },
  {
   "cell_type": "code",
   "execution_count": 8,
   "id": "a758e55d",
   "metadata": {},
   "outputs": [],
   "source": [
    "TW50_dict_filled = TW50_dict.copy()\n",
    "start_date = datetime.date(2022,10, 29)\n",
    "end_date = datetime.date(2022,12, 15)\n",
    "\n",
    "def daterange(start_date, end_date):\n",
    "    for n in range(int((end_date - start_date).days)):\n",
    "        yield start_date + datetime.timedelta(n)\n",
    "\n",
    "for single_date in daterange(start_date, end_date):\n",
    "    query_date = single_date.strftime(\"%Y-%m-%d\")\n",
    "    query_date = datetime.datetime.strptime(query_date, '%Y-%m-%d')\n",
    "    if query_date not in TW50_dict_filled.keys(): # missing value\n",
    "        i = -1\n",
    "        before = query_date + datetime.timedelta(-1)\n",
    "        while before not in TW50_dict_filled.keys(): \n",
    "            before += datetime.timedelta(-1)\n",
    "        i = 1\n",
    "        after = query_date + datetime.timedelta(1)\n",
    "        while after not in TW50_dict_filled.keys(): \n",
    "            after += datetime.timedelta(1)\n",
    "        before_val = TW50_dict_filled[before]\n",
    "        after_val = TW50_dict_filled[after]\n",
    "        mean_val = (before_val+after_val)/2\n",
    "        TW50_dict_filled[query_date] = mean_val"
   ]
  },
  {
   "cell_type": "code",
   "execution_count": 9,
   "id": "3e6d6a08",
   "metadata": {},
   "outputs": [],
   "source": [
    "dates = list(TW50_dict_filled.keys())\n",
    "close = list(TW50_dict_filled.values())\n",
    "\n",
    "TW50_df_pivot = pd.DataFrame()\n",
    "TW50_df_pivot['Dates'] = dates\n",
    "TW50_df_pivot['Close'] = close\n",
    "TW50_df_pivot = TW50_df_pivot.sort_values(by='Dates').reset_index(drop=True)\n",
    "TW50_df_pivot = TW50_df_pivot.query('\"2022-10-28\" <= Dates <= \"2022-12-15\"') # 多一天為了計算delta"
   ]
  },
  {
   "cell_type": "code",
   "execution_count": 10,
   "id": "ca37c2ce",
   "metadata": {},
   "outputs": [
    {
     "name": "stdout",
     "output_type": "stream",
     "text": [
      "Sentiment:\n",
      "start:  2022-10-29 00:00:00 , End:  2022-12-15 00:00:00\n",
      "Size:  48 \n",
      "\n",
      "TW50:\n",
      "start:  2022-10-28 00:00:00 , End:  2022-12-15 00:00:00\n",
      "Size:  49\n"
     ]
    }
   ],
   "source": [
    "print(\"Sentiment:\")\n",
    "print(\"start: \", Sentiment_Result.Dates.min(), \", End: \", Sentiment_Result.Dates.max())\n",
    "print('Size: ', len(Sentiment_Result['Sentiment_Score']), '\\n')\n",
    "\n",
    "print(\"TW50:\")\n",
    "print(\"start: \", TW50_df_pivot.Dates.min(), \", End: \", TW50_df_pivot.Dates.max())\n",
    "print('Size: ', len(TW50_df_pivot['Dates']), )"
   ]
  },
  {
   "cell_type": "code",
   "execution_count": 11,
   "id": "b06590c0",
   "metadata": {},
   "outputs": [
    {
     "data": {
      "image/png": "[encoded data removed]",
      "text/plain": [
       "<Figure size 432x288 with 1 Axes>"
      ]
     },
     "metadata": {
      "needs_background": "light"
     },
     "output_type": "display_data"
    }
   ],
   "source": [
    "plt.plot(TW50_df_pivot['Dates'], TW50_df_pivot['Close'])\n",
    "plt.xticks(rotation=25)\n",
    "plt.show()"
   ]
  },
  {
   "cell_type": "code",
   "execution_count": 12,
   "id": "42b16dfb",
   "metadata": {
    "scrolled": true
   },
   "outputs": [
    {
     "ename": "KeyError",
     "evalue": "\"['Tokens'] not found in axis\"",
     "output_type": "error",
     "traceback": [
      "\u001b[1;31m---------------------------------------------------------------------------\u001b[0m",
      "\u001b[1;31mKeyError\u001b[0m                                  Traceback (most recent call last)",
      "Input \u001b[1;32mIn [12]\u001b[0m, in \u001b[0;36m<cell line: 7>\u001b[1;34m()\u001b[0m\n\u001b[0;32m      5\u001b[0m TW50_df \u001b[38;5;241m=\u001b[39m TW50_df\u001b[38;5;241m.\u001b[39mquery(\u001b[38;5;124m'\u001b[39m\u001b[38;5;124m\"\u001b[39m\u001b[38;5;124m2022-10-29\u001b[39m\u001b[38;5;124m\"\u001b[39m\u001b[38;5;124m <= Dates\u001b[39m\u001b[38;5;124m'\u001b[39m) \u001b[38;5;66;03m# 計算完後刪去多的一天\u001b[39;00m\n\u001b[0;32m      6\u001b[0m Merge_df \u001b[38;5;241m=\u001b[39m TW50_df\u001b[38;5;241m.\u001b[39mmerge(Sentiment_Result, on\u001b[38;5;241m=\u001b[39m\u001b[38;5;124m'\u001b[39m\u001b[38;5;124mDates\u001b[39m\u001b[38;5;124m'\u001b[39m)\n\u001b[1;32m----> 7\u001b[0m Merge_df \u001b[38;5;241m=\u001b[39m \u001b[43mMerge_df\u001b[49m\u001b[38;5;241;43m.\u001b[39;49m\u001b[43mdrop\u001b[49m\u001b[43m(\u001b[49m\u001b[43mcolumns\u001b[49m\u001b[38;5;241;43m=\u001b[39;49m\u001b[43m[\u001b[49m\u001b[38;5;124;43m'\u001b[39;49m\u001b[38;5;124;43mYesterday\u001b[39;49m\u001b[38;5;124;43m'\u001b[39;49m\u001b[43m,\u001b[49m\u001b[43m \u001b[49m\u001b[38;5;124;43m'\u001b[39;49m\u001b[38;5;124;43mTokens\u001b[39;49m\u001b[38;5;124;43m'\u001b[39;49m\u001b[43m,\u001b[49m\u001b[43m \u001b[49m\u001b[38;5;124;43m'\u001b[39;49m\u001b[38;5;124;43mtoken_num\u001b[39;49m\u001b[38;5;124;43m'\u001b[39;49m\u001b[43m]\u001b[49m\u001b[43m)\u001b[49m\n\u001b[0;32m      8\u001b[0m Merge_df\n",
      "File \u001b[1;32m~\\anaconda3\\lib\\site-packages\\pandas\\util\\_decorators.py:311\u001b[0m, in \u001b[0;36mdeprecate_nonkeyword_arguments.<locals>.decorate.<locals>.wrapper\u001b[1;34m(*args, **kwargs)\u001b[0m\n\u001b[0;32m    305\u001b[0m \u001b[38;5;28;01mif\u001b[39;00m \u001b[38;5;28mlen\u001b[39m(args) \u001b[38;5;241m>\u001b[39m num_allow_args:\n\u001b[0;32m    306\u001b[0m     warnings\u001b[38;5;241m.\u001b[39mwarn(\n\u001b[0;32m    307\u001b[0m         msg\u001b[38;5;241m.\u001b[39mformat(arguments\u001b[38;5;241m=\u001b[39marguments),\n\u001b[0;32m    308\u001b[0m         \u001b[38;5;167;01mFutureWarning\u001b[39;00m,\n\u001b[0;32m    309\u001b[0m         stacklevel\u001b[38;5;241m=\u001b[39mstacklevel,\n\u001b[0;32m    310\u001b[0m     )\n\u001b[1;32m--> 311\u001b[0m \u001b[38;5;28;01mreturn\u001b[39;00m \u001b[43mfunc\u001b[49m\u001b[43m(\u001b[49m\u001b[38;5;241;43m*\u001b[39;49m\u001b[43margs\u001b[49m\u001b[43m,\u001b[49m\u001b[43m \u001b[49m\u001b[38;5;241;43m*\u001b[39;49m\u001b[38;5;241;43m*\u001b[39;49m\u001b[43mkwargs\u001b[49m\u001b[43m)\u001b[49m\n",
      "File \u001b[1;32m~\\anaconda3\\lib\\site-packages\\pandas\\core\\frame.py:4948\u001b[0m, in \u001b[0;36mDataFrame.drop\u001b[1;34m(self, labels, axis, index, columns, level, inplace, errors)\u001b[0m\n\u001b[0;32m   4800\u001b[0m \u001b[38;5;129m@deprecate_nonkeyword_arguments\u001b[39m(version\u001b[38;5;241m=\u001b[39m\u001b[38;5;28;01mNone\u001b[39;00m, allowed_args\u001b[38;5;241m=\u001b[39m[\u001b[38;5;124m\"\u001b[39m\u001b[38;5;124mself\u001b[39m\u001b[38;5;124m\"\u001b[39m, \u001b[38;5;124m\"\u001b[39m\u001b[38;5;124mlabels\u001b[39m\u001b[38;5;124m\"\u001b[39m])\n\u001b[0;32m   4801\u001b[0m \u001b[38;5;28;01mdef\u001b[39;00m \u001b[38;5;21mdrop\u001b[39m(\n\u001b[0;32m   4802\u001b[0m     \u001b[38;5;28mself\u001b[39m,\n\u001b[1;32m   (...)\u001b[0m\n\u001b[0;32m   4809\u001b[0m     errors: \u001b[38;5;28mstr\u001b[39m \u001b[38;5;241m=\u001b[39m \u001b[38;5;124m\"\u001b[39m\u001b[38;5;124mraise\u001b[39m\u001b[38;5;124m\"\u001b[39m,\n\u001b[0;32m   4810\u001b[0m ):\n\u001b[0;32m   4811\u001b[0m     \u001b[38;5;124;03m\"\"\"\u001b[39;00m\n\u001b[0;32m   4812\u001b[0m \u001b[38;5;124;03m    Drop specified labels from rows or columns.\u001b[39;00m\n\u001b[0;32m   4813\u001b[0m \n\u001b[1;32m   (...)\u001b[0m\n\u001b[0;32m   4946\u001b[0m \u001b[38;5;124;03m            weight  1.0     0.8\u001b[39;00m\n\u001b[0;32m   4947\u001b[0m \u001b[38;5;124;03m    \"\"\"\u001b[39;00m\n\u001b[1;32m-> 4948\u001b[0m     \u001b[38;5;28;01mreturn\u001b[39;00m \u001b[38;5;28;43msuper\u001b[39;49m\u001b[43m(\u001b[49m\u001b[43m)\u001b[49m\u001b[38;5;241;43m.\u001b[39;49m\u001b[43mdrop\u001b[49m\u001b[43m(\u001b[49m\n\u001b[0;32m   4949\u001b[0m \u001b[43m        \u001b[49m\u001b[43mlabels\u001b[49m\u001b[38;5;241;43m=\u001b[39;49m\u001b[43mlabels\u001b[49m\u001b[43m,\u001b[49m\n\u001b[0;32m   4950\u001b[0m \u001b[43m        \u001b[49m\u001b[43maxis\u001b[49m\u001b[38;5;241;43m=\u001b[39;49m\u001b[43maxis\u001b[49m\u001b[43m,\u001b[49m\n\u001b[0;32m   4951\u001b[0m \u001b[43m        \u001b[49m\u001b[43mindex\u001b[49m\u001b[38;5;241;43m=\u001b[39;49m\u001b[43mindex\u001b[49m\u001b[43m,\u001b[49m\n\u001b[0;32m   4952\u001b[0m \u001b[43m        \u001b[49m\u001b[43mcolumns\u001b[49m\u001b[38;5;241;43m=\u001b[39;49m\u001b[43mcolumns\u001b[49m\u001b[43m,\u001b[49m\n\u001b[0;32m   4953\u001b[0m \u001b[43m        \u001b[49m\u001b[43mlevel\u001b[49m\u001b[38;5;241;43m=\u001b[39;49m\u001b[43mlevel\u001b[49m\u001b[43m,\u001b[49m\n\u001b[0;32m   4954\u001b[0m \u001b[43m        \u001b[49m\u001b[43minplace\u001b[49m\u001b[38;5;241;43m=\u001b[39;49m\u001b[43minplace\u001b[49m\u001b[43m,\u001b[49m\n\u001b[0;32m   4955\u001b[0m \u001b[43m        \u001b[49m\u001b[43merrors\u001b[49m\u001b[38;5;241;43m=\u001b[39;49m\u001b[43merrors\u001b[49m\u001b[43m,\u001b[49m\n\u001b[0;32m   4956\u001b[0m \u001b[43m    \u001b[49m\u001b[43m)\u001b[49m\n",
      "File \u001b[1;32m~\\anaconda3\\lib\\site-packages\\pandas\\core\\generic.py:4279\u001b[0m, in \u001b[0;36mNDFrame.drop\u001b[1;34m(self, labels, axis, index, columns, level, inplace, errors)\u001b[0m\n\u001b[0;32m   4277\u001b[0m \u001b[38;5;28;01mfor\u001b[39;00m axis, labels \u001b[38;5;129;01min\u001b[39;00m axes\u001b[38;5;241m.\u001b[39mitems():\n\u001b[0;32m   4278\u001b[0m     \u001b[38;5;28;01mif\u001b[39;00m labels \u001b[38;5;129;01mis\u001b[39;00m \u001b[38;5;129;01mnot\u001b[39;00m \u001b[38;5;28;01mNone\u001b[39;00m:\n\u001b[1;32m-> 4279\u001b[0m         obj \u001b[38;5;241m=\u001b[39m \u001b[43mobj\u001b[49m\u001b[38;5;241;43m.\u001b[39;49m\u001b[43m_drop_axis\u001b[49m\u001b[43m(\u001b[49m\u001b[43mlabels\u001b[49m\u001b[43m,\u001b[49m\u001b[43m \u001b[49m\u001b[43maxis\u001b[49m\u001b[43m,\u001b[49m\u001b[43m \u001b[49m\u001b[43mlevel\u001b[49m\u001b[38;5;241;43m=\u001b[39;49m\u001b[43mlevel\u001b[49m\u001b[43m,\u001b[49m\u001b[43m \u001b[49m\u001b[43merrors\u001b[49m\u001b[38;5;241;43m=\u001b[39;49m\u001b[43merrors\u001b[49m\u001b[43m)\u001b[49m\n\u001b[0;32m   4281\u001b[0m \u001b[38;5;28;01mif\u001b[39;00m inplace:\n\u001b[0;32m   4282\u001b[0m     \u001b[38;5;28mself\u001b[39m\u001b[38;5;241m.\u001b[39m_update_inplace(obj)\n",
      "File \u001b[1;32m~\\anaconda3\\lib\\site-packages\\pandas\\core\\generic.py:4323\u001b[0m, in \u001b[0;36mNDFrame._drop_axis\u001b[1;34m(self, labels, axis, level, errors, consolidate, only_slice)\u001b[0m\n\u001b[0;32m   4321\u001b[0m         new_axis \u001b[38;5;241m=\u001b[39m axis\u001b[38;5;241m.\u001b[39mdrop(labels, level\u001b[38;5;241m=\u001b[39mlevel, errors\u001b[38;5;241m=\u001b[39merrors)\n\u001b[0;32m   4322\u001b[0m     \u001b[38;5;28;01melse\u001b[39;00m:\n\u001b[1;32m-> 4323\u001b[0m         new_axis \u001b[38;5;241m=\u001b[39m \u001b[43maxis\u001b[49m\u001b[38;5;241;43m.\u001b[39;49m\u001b[43mdrop\u001b[49m\u001b[43m(\u001b[49m\u001b[43mlabels\u001b[49m\u001b[43m,\u001b[49m\u001b[43m \u001b[49m\u001b[43merrors\u001b[49m\u001b[38;5;241;43m=\u001b[39;49m\u001b[43merrors\u001b[49m\u001b[43m)\u001b[49m\n\u001b[0;32m   4324\u001b[0m     indexer \u001b[38;5;241m=\u001b[39m axis\u001b[38;5;241m.\u001b[39mget_indexer(new_axis)\n\u001b[0;32m   4326\u001b[0m \u001b[38;5;66;03m# Case for non-unique axis\u001b[39;00m\n\u001b[0;32m   4327\u001b[0m \u001b[38;5;28;01melse\u001b[39;00m:\n",
      "File \u001b[1;32m~\\anaconda3\\lib\\site-packages\\pandas\\core\\indexes\\base.py:6644\u001b[0m, in \u001b[0;36mIndex.drop\u001b[1;34m(self, labels, errors)\u001b[0m\n\u001b[0;32m   6642\u001b[0m \u001b[38;5;28;01mif\u001b[39;00m mask\u001b[38;5;241m.\u001b[39many():\n\u001b[0;32m   6643\u001b[0m     \u001b[38;5;28;01mif\u001b[39;00m errors \u001b[38;5;241m!=\u001b[39m \u001b[38;5;124m\"\u001b[39m\u001b[38;5;124mignore\u001b[39m\u001b[38;5;124m\"\u001b[39m:\n\u001b[1;32m-> 6644\u001b[0m         \u001b[38;5;28;01mraise\u001b[39;00m \u001b[38;5;167;01mKeyError\u001b[39;00m(\u001b[38;5;124mf\u001b[39m\u001b[38;5;124m\"\u001b[39m\u001b[38;5;132;01m{\u001b[39;00m\u001b[38;5;28mlist\u001b[39m(labels[mask])\u001b[38;5;132;01m}\u001b[39;00m\u001b[38;5;124m not found in axis\u001b[39m\u001b[38;5;124m\"\u001b[39m)\n\u001b[0;32m   6645\u001b[0m     indexer \u001b[38;5;241m=\u001b[39m indexer[\u001b[38;5;241m~\u001b[39mmask]\n\u001b[0;32m   6646\u001b[0m \u001b[38;5;28;01mreturn\u001b[39;00m \u001b[38;5;28mself\u001b[39m\u001b[38;5;241m.\u001b[39mdelete(indexer)\n",
      "\u001b[1;31mKeyError\u001b[0m: \"['Tokens'] not found in axis\""
     ]
    }
   ],
   "source": [
    "TW50_df = TW50_df_pivot.copy()\n",
    "TW50_df = TW50_df.reset_index(drop=True)\n",
    "TW50_df['Yesterday'] = TW50_df['Close'].shift(1)\n",
    "TW50_df['Delta'] = TW50_df['Close'] - TW50_df['Yesterday']\n",
    "TW50_df = TW50_df.query('\"2022-10-29\" <= Dates') # 計算完後刪去多的一天\n",
    "Merge_df = TW50_df.merge(Sentiment_Result, on='Dates')\n",
    "Merge_df = Merge_df.drop(columns=['Yesterday', 'Tokens', 'token_num'])\n",
    "Merge_df"
   ]
  },
  {
   "cell_type": "markdown",
   "id": "d503936a",
   "metadata": {},
   "source": [
    "# Granger Causality"
   ]
  },
  {
   "cell_type": "markdown",
   "id": "b3594353",
   "metadata": {},
   "source": [
    "Granger Causality test is used to determine **whether or not one time series is useful for forecasting another.**\n",
    "\n",
    "This test uses the following null and alternative hypotheses:\n",
    "\n",
    "> **Null Hypothesis (H0): Time series x does not Granger-cause time series y**\n",
    "\n",
    "> **Alternative Hypothesis (HA): Time series x Granger-causes time series y**\n",
    "\n",
    "\n",
    "If the p-value is less than a certain significance level (i.e. α = .05), then we can reject the null hypothesis and conclude that we have sufficient evidence to say that time series x Granger-causes time series y."
   ]
  },
  {
   "cell_type": "code",
   "execution_count": null,
   "id": "995a6e10",
   "metadata": {},
   "outputs": [],
   "source": [
    "# Perform Granger-Causality test on TW50 index directly! (alpha=0.05)\n",
    "from statsmodels.tsa.stattools import grangercausalitytests\n",
    "\n",
    "# 1. Test if it have the predictive power on TW50\n",
    "print(\"Adjusted Close:\")\n",
    "lag_list1 = []\n",
    "p_list1 = []\n",
    "for lag in range(1, 10): \n",
    "    res1 = grangercausalitytests(Merge_df[['Close', 'Sentiment_Score']], maxlag=[lag]) \n",
    "    lag_list1.append(lag)\n",
    "    p_list1.append(res1[lag][0]['ssr_ftest'][1]) # parameter: max_lag/0/f test/p_value\n",
    "\n",
    "Adj_df = pd.DataFrame({'max_lag':lag_list1, 'p_value':p_list1})\n",
    "Adj_df = Adj_df.sort_values(by='p_value', ascending=True).reset_index(drop=True)\n",
    "Adj_df"
   ]
  },
  {
   "cell_type": "code",
   "execution_count": 13,
   "id": "55e28484",
   "metadata": {},
   "outputs": [
    {
     "name": "stdout",
     "output_type": "stream",
     "text": [
      "Adjusted Close:\n",
      "\n",
      "Granger Causality\n",
      "number of lags (no zero) 1\n",
      "ssr based F test:         F=0.0167  , p=0.8977  , df_denom=44, df_num=1\n",
      "ssr based chi2 test:   chi2=0.0179  , p=0.8937  , df=1\n",
      "likelihood ratio test: chi2=0.0179  , p=0.8937  , df=1\n",
      "parameter F test:         F=0.0167  , p=0.8977  , df_denom=44, df_num=1\n",
      "\n",
      "Granger Causality\n",
      "number of lags (no zero) 2\n",
      "ssr based F test:         F=0.8330  , p=0.4420  , df_denom=41, df_num=2\n",
      "ssr based chi2 test:   chi2=1.8692  , p=0.3927  , df=2\n",
      "likelihood ratio test: chi2=1.8322  , p=0.4001  , df=2\n",
      "parameter F test:         F=0.8330  , p=0.4420  , df_denom=41, df_num=2\n",
      "\n",
      "Granger Causality\n",
      "number of lags (no zero) 3\n",
      "ssr based F test:         F=1.9700  , p=0.1349  , df_denom=38, df_num=3\n",
      "ssr based chi2 test:   chi2=6.9988  , p=0.0719  , df=3\n",
      "likelihood ratio test: chi2=6.5051  , p=0.0895  , df=3\n",
      "parameter F test:         F=1.9700  , p=0.1349  , df_denom=38, df_num=3\n",
      "\n",
      "Granger Causality\n",
      "number of lags (no zero) 4\n",
      "ssr based F test:         F=1.2856  , p=0.2944  , df_denom=35, df_num=4\n",
      "ssr based chi2 test:   chi2=6.4646  , p=0.1670  , df=4\n",
      "likelihood ratio test: chi2=6.0317  , p=0.1968  , df=4\n",
      "parameter F test:         F=1.2856  , p=0.2944  , df_denom=35, df_num=4\n",
      "\n",
      "Granger Causality\n",
      "number of lags (no zero) 5\n",
      "ssr based F test:         F=1.3293  , p=0.2769  , df_denom=32, df_num=5\n",
      "ssr based chi2 test:   chi2=8.9316  , p=0.1118  , df=5\n",
      "likelihood ratio test: chi2=8.1152  , p=0.1500  , df=5\n",
      "parameter F test:         F=1.3293  , p=0.2769  , df_denom=32, df_num=5\n",
      "\n",
      "Granger Causality\n",
      "number of lags (no zero) 6\n",
      "ssr based F test:         F=1.4457  , p=0.2316  , df_denom=29, df_num=6\n",
      "ssr based chi2 test:   chi2=12.5629 , p=0.0505  , df=6\n",
      "likelihood ratio test: chi2=10.9908 , p=0.0887  , df=6\n",
      "parameter F test:         F=1.4457  , p=0.2316  , df_denom=29, df_num=6\n",
      "\n",
      "Granger Causality\n",
      "number of lags (no zero) 7\n",
      "ssr based F test:         F=1.3111  , p=0.2845  , df_denom=26, df_num=7\n",
      "ssr based chi2 test:   chi2=14.4723 , p=0.0434  , df=7\n",
      "likelihood ratio test: chi2=12.3948 , p=0.0883  , df=7\n",
      "parameter F test:         F=1.3111  , p=0.2845  , df_denom=26, df_num=7\n",
      "\n",
      "Granger Causality\n",
      "number of lags (no zero) 8\n",
      "ssr based F test:         F=1.0463  , p=0.4319  , df_denom=23, df_num=8\n",
      "ssr based chi2 test:   chi2=14.5575 , p=0.0683  , df=8\n",
      "likelihood ratio test: chi2=12.4151 , p=0.1336  , df=8\n",
      "parameter F test:         F=1.0463  , p=0.4319  , df_denom=23, df_num=8\n",
      "\n",
      "Granger Causality\n",
      "number of lags (no zero) 9\n",
      "ssr based F test:         F=1.1005  , p=0.4055  , df_denom=20, df_num=9\n",
      "ssr based chi2 test:   chi2=19.3140 , p=0.0227  , df=9\n",
      "likelihood ratio test: chi2=15.6890 , p=0.0737  , df=9\n",
      "parameter F test:         F=1.1005  , p=0.4055  , df_denom=20, df_num=9\n"
     ]
    },
    {
     "data": {
      "text/html": [
       "<div>\n",
       "<style scoped>\n",
       "    .dataframe tbody tr th:only-of-type {\n",
       "        vertical-align: middle;\n",
       "    }\n",
       "\n",
       "    .dataframe tbody tr th {\n",
       "        vertical-align: top;\n",
       "    }\n",
       "\n",
       "    .dataframe thead th {\n",
       "        text-align: right;\n",
       "    }\n",
       "</style>\n",
       "<table border=\"1\" class=\"dataframe\">\n",
       "  <thead>\n",
       "    <tr style=\"text-align: right;\">\n",
       "      <th></th>\n",
       "      <th>max_lag</th>\n",
       "      <th>p_value</th>\n",
       "    </tr>\n",
       "  </thead>\n",
       "  <tbody>\n",
       "    <tr>\n",
       "      <th>0</th>\n",
       "      <td>3</td>\n",
       "      <td>0.134870</td>\n",
       "    </tr>\n",
       "    <tr>\n",
       "      <th>1</th>\n",
       "      <td>6</td>\n",
       "      <td>0.231615</td>\n",
       "    </tr>\n",
       "    <tr>\n",
       "      <th>2</th>\n",
       "      <td>5</td>\n",
       "      <td>0.276946</td>\n",
       "    </tr>\n",
       "    <tr>\n",
       "      <th>3</th>\n",
       "      <td>7</td>\n",
       "      <td>0.284474</td>\n",
       "    </tr>\n",
       "    <tr>\n",
       "      <th>4</th>\n",
       "      <td>4</td>\n",
       "      <td>0.294396</td>\n",
       "    </tr>\n",
       "    <tr>\n",
       "      <th>5</th>\n",
       "      <td>9</td>\n",
       "      <td>0.405505</td>\n",
       "    </tr>\n",
       "    <tr>\n",
       "      <th>6</th>\n",
       "      <td>8</td>\n",
       "      <td>0.431931</td>\n",
       "    </tr>\n",
       "    <tr>\n",
       "      <th>7</th>\n",
       "      <td>2</td>\n",
       "      <td>0.441961</td>\n",
       "    </tr>\n",
       "    <tr>\n",
       "      <th>8</th>\n",
       "      <td>1</td>\n",
       "      <td>0.897697</td>\n",
       "    </tr>\n",
       "  </tbody>\n",
       "</table>\n",
       "</div>"
      ],
      "text/plain": [
       "   max_lag   p_value\n",
       "0        3  0.134870\n",
       "1        6  0.231615\n",
       "2        5  0.276946\n",
       "3        7  0.284474\n",
       "4        4  0.294396\n",
       "5        9  0.405505\n",
       "6        8  0.431931\n",
       "7        2  0.441961\n",
       "8        1  0.897697"
      ]
     },
     "execution_count": 13,
     "metadata": {},
     "output_type": "execute_result"
    }
   ],
   "source": [
    "# Perform Granger-Causality test on TW50 index directly! (alpha=0.05)\n",
    "from statsmodels.tsa.stattools import grangercausalitytests\n",
    "\n",
    "# 1. Test if it have the predictive power on TW50\n",
    "print(\"Adjusted Close:\")\n",
    "lag_list1 = []\n",
    "p_list1 = []\n",
    "for lag in range(1, 10): \n",
    "    res1 = grangercausalitytests(Merge_df[['Delta', 'Sentiment_Score']], maxlag=[lag]) \n",
    "    lag_list1.append(lag)\n",
    "    p_list1.append(res1[lag][0]['ssr_ftest'][1]) # parameter: max_lag/0/f test/p_value\n",
    "\n",
    "Adj_df = pd.DataFrame({'max_lag':lag_list1, 'p_value':p_list1})\n",
    "Adj_df = Adj_df.sort_values(by='p_value', ascending=True).reset_index(drop=True)\n",
    "Adj_df"
   ]
  },
  {
   "cell_type": "code",
   "execution_count": null,
   "id": "e4176197",
   "metadata": {},
   "outputs": [],
   "source": []
  },
  {
   "cell_type": "code",
   "execution_count": null,
   "id": "2b9da9a4",
   "metadata": {},
   "outputs": [],
   "source": []
  },
  {
   "cell_type": "code",
   "execution_count": null,
   "id": "2253fca2",
   "metadata": {},
   "outputs": [],
   "source": []
  },
  {
   "cell_type": "code",
   "execution_count": null,
   "id": "2f17de89",
   "metadata": {},
   "outputs": [],
   "source": []
  },
  {
   "cell_type": "code",
   "execution_count": null,
   "id": "72883f96",
   "metadata": {},
   "outputs": [],
   "source": []
  },
  {
   "cell_type": "code",
   "execution_count": null,
   "id": "5f787ffd",
   "metadata": {},
   "outputs": [],
   "source": []
  },
  {
   "cell_type": "code",
   "execution_count": null,
   "id": "7159d708",
   "metadata": {},
   "outputs": [],
   "source": []
  },
  {
   "cell_type": "code",
   "execution_count": null,
   "id": "1e845d9e",
   "metadata": {},
   "outputs": [],
   "source": []
  },
  {
   "cell_type": "code",
   "execution_count": null,
   "id": "92092ddf",
   "metadata": {},
   "outputs": [],
   "source": []
  },
  {
   "cell_type": "code",
   "execution_count": null,
   "id": "a6e9b82c",
   "metadata": {},
   "outputs": [],
   "source": []
  }
 ],
 "metadata": {
  "kernelspec": {
   "display_name": "Python 3 (ipykernel)",
   "language": "python",
   "name": "python3"
  },
  "language_info": {
   "codemirror_mode": {
    "name": "ipython",
    "version": 3
   },
   "file_extension": ".py",
   "mimetype": "text/x-python",
   "name": "python",
   "nbconvert_exporter": "python",
   "pygments_lexer": "ipython3",
   "version": "3.8.3"
  }
 },
 "nbformat": 4,
 "nbformat_minor": 5
}
